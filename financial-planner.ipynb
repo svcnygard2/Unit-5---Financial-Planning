{
 "cells": [
  {
   "cell_type": "markdown",
   "metadata": {},
   "source": [
    "# Unit 5 - Financial Planning\n"
   ]
  },
  {
   "cell_type": "code",
   "execution_count": 1,
   "metadata": {},
   "outputs": [],
   "source": [
    "# Initial imports\n",
    "import os\n",
    "import requests\n",
    "import pandas as pd\n",
    "from dotenv import load_dotenv\n",
    "import alpaca_trade_api as tradeapi\n",
    "from MCForecastTools import MCSimulation\n",
    "import json\n",
    "import requests\n",
    "\n",
    "%matplotlib inline"
   ]
  },
  {
   "cell_type": "code",
   "execution_count": 2,
   "metadata": {},
   "outputs": [
    {
     "data": {
      "text/plain": [
       "True"
      ]
     },
     "execution_count": 2,
     "metadata": {},
     "output_type": "execute_result"
    }
   ],
   "source": [
    "# Load .env enviroment variables\n",
    "load_dotenv()"
   ]
  },
  {
   "cell_type": "code",
   "execution_count": 3,
   "metadata": {},
   "outputs": [
    {
     "name": "stdout",
     "output_type": "stream",
     "text": [
      "<class 'str'>\n",
      "<class 'str'>\n"
     ]
    }
   ],
   "source": [
    "# Set Alpaca API key and secret\n",
    "alpaca_api_key = os.getenv(\"ALPACA_API_KEY\")\n",
    "alpaca_secret_key = os.getenv(\"ALPACA_SECRET_KEY\")\n",
    "print(type(alpaca_api_key))\n",
    "print(type(alpaca_secret_key))"
   ]
  },
  {
   "cell_type": "code",
   "execution_count": 4,
   "metadata": {},
   "outputs": [],
   "source": [
    "# Create the Alpaca API object\n",
    "alpaca = tradeapi.REST(\n",
    "    alpaca_api_key,\n",
    "    alpaca_secret_key,\n",
    "    api_version=\"v2\")"
   ]
  },
  {
   "cell_type": "markdown",
   "metadata": {},
   "source": [
    "## Part 1 - Personal Finance Planner"
   ]
  },
  {
   "cell_type": "code",
   "execution_count": 5,
   "metadata": {},
   "outputs": [],
   "source": [
    "# Set monthly household income\n",
    "monthly_income = 12000"
   ]
  },
  {
   "cell_type": "markdown",
   "metadata": {},
   "source": [
    "### Collect Crypto Prices Using the `requests` Library"
   ]
  },
  {
   "cell_type": "code",
   "execution_count": 6,
   "metadata": {},
   "outputs": [],
   "source": [
    "# Current amount of crypto assets\n",
    "my_btc = 1.2\n",
    "my_eth = 5.3\n",
    "\n",
    "# Crypto API URLs\n",
    "btc_url = \"https://api.alternative.me/v2/ticker/Bitcoin/?convert=USD\"\n",
    "eth_url = \"https://api.alternative.me/v2/ticker/Ethereum/?convert=USD\"\n",
    "\n",
    "# Concatenate url and api key\n",
    "btc_url = btc_url + alpaca_api_key\n",
    "eth_url = eth_url + alpaca_api_key"
   ]
  },
  {
   "cell_type": "code",
   "execution_count": 7,
   "metadata": {},
   "outputs": [
    {
     "data": {
      "text/plain": [
       "(<Response [200]>, <Response [200]>)"
      ]
     },
     "execution_count": 7,
     "metadata": {},
     "output_type": "execute_result"
    }
   ],
   "source": [
    "# Fetch current BTC\n",
    "btc_df = requests.get(btc_url)\n",
    "\n",
    "# Fetch current ETH\n",
    "eth_df = requests.get(eth_url)\n",
    "\n",
    "# Confirm data was fetched\n",
    "btc_df, eth_df"
   ]
  },
  {
   "cell_type": "markdown",
   "metadata": {},
   "source": [
    "### Compute current value of my crpto"
   ]
  },
  {
   "cell_type": "code",
   "execution_count": 8,
   "metadata": {
    "collapsed": true,
    "jupyter": {
     "outputs_hidden": true
    }
   },
   "outputs": [
    {
     "name": "stdout",
     "output_type": "stream",
     "text": [
      "{\n",
      "    \"data\": {\n",
      "        \"1\": {\n",
      "            \"id\": 1,\n",
      "            \"name\": \"Bitcoin\",\n",
      "            \"symbol\": \"BTC\",\n",
      "            \"website_slug\": \"bitcoin\",\n",
      "            \"rank\": 1,\n",
      "            \"circulating_supply\": 18472425,\n",
      "            \"total_supply\": 18472425,\n",
      "            \"max_supply\": 21000000,\n",
      "            \"quotes\": {\n",
      "                \"USD\": {\n",
      "                    \"price\": 11264.49,\n",
      "                    \"volume_24h\": 21622265588,\n",
      "                    \"market_cap\": 208157372876,\n",
      "                    \"percentage_change_1h\": 0.0487475585357374,\n",
      "                    \"percentage_change_24h\": -2.13423998030026,\n",
      "                    \"percentage_change_7d\": -3.99535029047154,\n",
      "                    \"percent_change_1h\": 0.0487475585357374,\n",
      "                    \"percent_change_24h\": -2.13423998030026,\n",
      "                    \"percent_change_7d\": -3.99535029047154\n",
      "                }\n",
      "            },\n",
      "            \"last_updated\": 1598561900\n",
      "        }\n",
      "    },\n",
      "    \"metadata\": {\n",
      "        \"timestamp\": 1598561900,\n",
      "        \"num_cryptocurrencies\": 1493,\n",
      "        \"error\": null\n",
      "    }\n",
      "}\n"
     ]
    }
   ],
   "source": [
    "# Convert btc_df to JSON\n",
    "btc_data=btc_df.json()\n",
    "\n",
    "# View btc_data using the \"dumps\" in the \"json\" function\n",
    "print(json.dumps(btc_data,indent=4))"
   ]
  },
  {
   "cell_type": "code",
   "execution_count": 9,
   "metadata": {
    "collapsed": true,
    "jupyter": {
     "outputs_hidden": true
    }
   },
   "outputs": [
    {
     "name": "stdout",
     "output_type": "stream",
     "text": [
      "{\n",
      "    \"data\": {\n",
      "        \"1027\": {\n",
      "            \"id\": 1027,\n",
      "            \"name\": \"Ethereum\",\n",
      "            \"symbol\": \"ETH\",\n",
      "            \"website_slug\": \"ethereum\",\n",
      "            \"rank\": 2,\n",
      "            \"circulating_supply\": 112357653,\n",
      "            \"total_supply\": 112357653,\n",
      "            \"max_supply\": 0,\n",
      "            \"quotes\": {\n",
      "                \"USD\": {\n",
      "                    \"price\": 379.61,\n",
      "                    \"volume_24h\": 9997410156,\n",
      "                    \"market_cap\": 42659159911,\n",
      "                    \"percentage_change_1h\": 0.411671873241944,\n",
      "                    \"percentage_change_24h\": -2.53090692215497,\n",
      "                    \"percentage_change_7d\": -6.63175605341067,\n",
      "                    \"percent_change_1h\": 0.411671873241944,\n",
      "                    \"percent_change_24h\": -2.53090692215497,\n",
      "                    \"percent_change_7d\": -6.63175605341067\n",
      "                }\n",
      "            },\n",
      "            \"last_updated\": 1598561968\n",
      "        }\n",
      "    },\n",
      "    \"metadata\": {\n",
      "        \"timestamp\": 1598561968,\n",
      "        \"num_cryptocurrencies\": 1493,\n",
      "        \"error\": null\n",
      "    }\n",
      "}\n"
     ]
    }
   ],
   "source": [
    "# Convert eth_df to JSON\n",
    "eth_data=eth_df.json()\n",
    "\n",
    "# View eth_data using the \"dumps\" in the \"json\" function\n",
    "print(json.dumps(eth_data,indent=4))"
   ]
  },
  {
   "cell_type": "code",
   "execution_count": 10,
   "metadata": {},
   "outputs": [
    {
     "name": "stdout",
     "output_type": "stream",
     "text": [
      "11264.49\n"
     ]
    }
   ],
   "source": [
    "# Fetch current BTC price\n",
    "btc_price=btc_data['data']['1']['quotes']['USD']['price']\n",
    "print(btc_price)"
   ]
  },
  {
   "cell_type": "code",
   "execution_count": 11,
   "metadata": {},
   "outputs": [
    {
     "name": "stdout",
     "output_type": "stream",
     "text": [
      "379.61\n"
     ]
    }
   ],
   "source": [
    "# Fetch current ETH price\n",
    "eth_price=eth_data['data']['1027']['quotes']['USD']['price']\n",
    "print(eth_price)"
   ]
  },
  {
   "cell_type": "code",
   "execution_count": 12,
   "metadata": {},
   "outputs": [
    {
     "name": "stdout",
     "output_type": "stream",
     "text": [
      "The current value of your 1.2 BTC is $13517.39.\n",
      "The current value of your 5.3 ETH is $2011.93.\n",
      "The sum of ETH and BTC is $15529.32.\n"
     ]
    }
   ],
   "source": [
    "# Compute current value of my crpto\n",
    "my_btc_value = (my_btc*btc_price)\n",
    "my_eth_value = (my_eth*eth_price)\n",
    "\n",
    "# Sum the values of the crypto wallet\n",
    "sum_crypto_value = my_btc_value + my_eth_value\n",
    "sum_crypto_value\n",
    "\n",
    "# Print current crypto wallet balance\n",
    "print(f\"The current value of your {my_btc} BTC is ${my_btc_value:0.2f}.\")\n",
    "print(f\"The current value of your {my_eth} ETH is ${my_eth_value:0.2f}.\")\n",
    "print(f\"The sum of ETH and BTC is ${sum_crypto_value:0.2f}.\")"
   ]
  },
  {
   "cell_type": "markdown",
   "metadata": {},
   "source": [
    "### Collect Investments Data Using Alpaca: `SPY` (stocks) and `AGG` (bonds)"
   ]
  },
  {
   "cell_type": "code",
   "execution_count": 13,
   "metadata": {},
   "outputs": [],
   "source": [
    "# Current amount of shares\n",
    "my_agg = 200\n",
    "my_spy = 50"
   ]
  },
  {
   "cell_type": "code",
   "execution_count": 14,
   "metadata": {},
   "outputs": [
    {
     "data": {
      "text/plain": [
       "'2020-08-27T00:00:00-05:00'"
      ]
     },
     "execution_count": 14,
     "metadata": {},
     "output_type": "execute_result"
    }
   ],
   "source": [
    "# Format current date as ISO format\n",
    "today = pd.Timestamp(\"2020-08-27\", tz=\"America/Chicago\").isoformat()\n",
    "today"
   ]
  },
  {
   "cell_type": "code",
   "execution_count": 15,
   "metadata": {},
   "outputs": [
    {
     "data": {
      "text/html": [
       "<div>\n",
       "<style scoped>\n",
       "    .dataframe tbody tr th:only-of-type {\n",
       "        vertical-align: middle;\n",
       "    }\n",
       "\n",
       "    .dataframe tbody tr th {\n",
       "        vertical-align: top;\n",
       "    }\n",
       "\n",
       "    .dataframe thead tr th {\n",
       "        text-align: left;\n",
       "    }\n",
       "\n",
       "    .dataframe thead tr:last-of-type th {\n",
       "        text-align: right;\n",
       "    }\n",
       "</style>\n",
       "<table border=\"1\" class=\"dataframe\">\n",
       "  <thead>\n",
       "    <tr>\n",
       "      <th></th>\n",
       "      <th colspan=\"5\" halign=\"left\">AGG</th>\n",
       "      <th colspan=\"5\" halign=\"left\">SPY</th>\n",
       "    </tr>\n",
       "    <tr>\n",
       "      <th></th>\n",
       "      <th>open</th>\n",
       "      <th>high</th>\n",
       "      <th>low</th>\n",
       "      <th>close</th>\n",
       "      <th>volume</th>\n",
       "      <th>open</th>\n",
       "      <th>high</th>\n",
       "      <th>low</th>\n",
       "      <th>close</th>\n",
       "      <th>volume</th>\n",
       "    </tr>\n",
       "    <tr>\n",
       "      <th>time</th>\n",
       "      <th></th>\n",
       "      <th></th>\n",
       "      <th></th>\n",
       "      <th></th>\n",
       "      <th></th>\n",
       "      <th></th>\n",
       "      <th></th>\n",
       "      <th></th>\n",
       "      <th></th>\n",
       "      <th></th>\n",
       "    </tr>\n",
       "  </thead>\n",
       "  <tbody>\n",
       "    <tr>\n",
       "      <th>2020-08-27 00:00:00-04:00</th>\n",
       "      <td>118.55</td>\n",
       "      <td>118.56</td>\n",
       "      <td>117.95</td>\n",
       "      <td>117.97</td>\n",
       "      <td>10931474</td>\n",
       "      <td>348.51</td>\n",
       "      <td>349.9</td>\n",
       "      <td>346.53</td>\n",
       "      <td>348.29</td>\n",
       "      <td>103934256</td>\n",
       "    </tr>\n",
       "  </tbody>\n",
       "</table>\n",
       "</div>"
      ],
      "text/plain": [
       "                              AGG                                       SPY  \\\n",
       "                             open    high     low   close    volume    open   \n",
       "time                                                                          \n",
       "2020-08-27 00:00:00-04:00  118.55  118.56  117.95  117.97  10931474  348.51   \n",
       "\n",
       "                                                             \n",
       "                            high     low   close     volume  \n",
       "time                                                         \n",
       "2020-08-27 00:00:00-04:00  349.9  346.53  348.29  103934256  "
      ]
     },
     "execution_count": 15,
     "metadata": {},
     "output_type": "execute_result"
    }
   ],
   "source": [
    "# Set the tickers\n",
    "tickers = [\"AGG\", \"SPY\"]\n",
    "\n",
    "# Set timeframe to '1D' for Alpaca API\n",
    "timeframe = \"1D\"\n",
    "\n",
    "# Get current closing prices for SPY and AGG\n",
    "close_price_df = alpaca.get_barset(\n",
    "    tickers,\n",
    "    timeframe,\n",
    "    start = today,\n",
    "    end = today).df\n",
    "\n",
    "# Display data\n",
    "close_price_df"
   ]
  },
  {
   "cell_type": "code",
   "execution_count": 16,
   "metadata": {},
   "outputs": [
    {
     "name": "stdout",
     "output_type": "stream",
     "text": [
      "Current AGG closing price: $117.97\n",
      "Current SPY closing price: $348.29\n"
     ]
    }
   ],
   "source": [
    "# Pick AGG and SPY close prices\n",
    "agg_cp = float(close_price_df[\"AGG\"][\"close\"])\n",
    "spy_cp = float(close_price_df[\"SPY\"][\"close\"])\n",
    "\n",
    "# Print AGG and SPY close prices\n",
    "print(f\"Current AGG closing price: ${agg_cp}\")\n",
    "print(f\"Current SPY closing price: ${spy_cp}\")"
   ]
  },
  {
   "cell_type": "code",
   "execution_count": 17,
   "metadata": {},
   "outputs": [
    {
     "data": {
      "text/html": [
       "<div>\n",
       "<style scoped>\n",
       "    .dataframe tbody tr th:only-of-type {\n",
       "        vertical-align: middle;\n",
       "    }\n",
       "\n",
       "    .dataframe tbody tr th {\n",
       "        vertical-align: top;\n",
       "    }\n",
       "\n",
       "    .dataframe thead th {\n",
       "        text-align: right;\n",
       "    }\n",
       "</style>\n",
       "<table border=\"1\" class=\"dataframe\">\n",
       "  <thead>\n",
       "    <tr style=\"text-align: right;\">\n",
       "      <th></th>\n",
       "      <th>shares</th>\n",
       "    </tr>\n",
       "  </thead>\n",
       "  <tbody>\n",
       "    <tr>\n",
       "      <th>AGG</th>\n",
       "      <td>200</td>\n",
       "    </tr>\n",
       "    <tr>\n",
       "      <th>SPY</th>\n",
       "      <td>50</td>\n",
       "    </tr>\n",
       "  </tbody>\n",
       "</table>\n",
       "</div>"
      ],
      "text/plain": [
       "     shares\n",
       "AGG     200\n",
       "SPY      50"
      ]
     },
     "execution_count": 17,
     "metadata": {},
     "output_type": "execute_result"
    }
   ],
   "source": [
    "# Set current amount of shares data\n",
    "shares_data = {\"shares\": [my_agg, my_spy]}\n",
    "\n",
    "# Set the tickers as a list\n",
    "tickers = [\"AGG\", \"SPY\"]\n",
    "\n",
    "# Create the shares DataFrame\n",
    "shares_df = pd.DataFrame(shares_data, index=tickers)\n",
    "\n",
    "# Display shares data\n",
    "shares_df"
   ]
  },
  {
   "cell_type": "code",
   "execution_count": 19,
   "metadata": {},
   "outputs": [
    {
     "name": "stdout",
     "output_type": "stream",
     "text": [
      "The current value of your 50 SPY shares is $17414.50.\n",
      "The current value of your 200 AGG shares is $23594.00.\n",
      "The sum of the SPY and AGG values are $41008.50.\n"
     ]
    }
   ],
   "source": [
    "# Compute the current value of shares\n",
    "agg_value = agg_cp * shares_df.loc[\"AGG\"][\"shares\"]\n",
    "spy_value = spy_cp * shares_df.loc[\"SPY\"][\"shares\"]\n",
    "\n",
    "# Sum current value of total stocks portfolio\n",
    "sum_shares_value = agg_value + spy_value\n",
    "sum_shares_value\n",
    "\n",
    "# Print current value of share\n",
    "print(f\"The current value of your {my_spy} SPY shares is ${spy_value:0.2f}.\")\n",
    "print(f\"The current value of your {my_agg} AGG shares is ${agg_value:0.2f}.\")\n",
    "print(f\"The sum of the SPY and AGG values are ${sum_shares_value:0.2f}.\")"
   ]
  },
  {
   "cell_type": "markdown",
   "metadata": {},
   "source": [
    "### Savings Health Analysis"
   ]
  },
  {
   "cell_type": "code",
   "execution_count": 20,
   "metadata": {},
   "outputs": [
    {
     "data": {
      "text/html": [
       "<div>\n",
       "<style scoped>\n",
       "    .dataframe tbody tr th:only-of-type {\n",
       "        vertical-align: middle;\n",
       "    }\n",
       "\n",
       "    .dataframe tbody tr th {\n",
       "        vertical-align: top;\n",
       "    }\n",
       "\n",
       "    .dataframe thead th {\n",
       "        text-align: right;\n",
       "    }\n",
       "</style>\n",
       "<table border=\"1\" class=\"dataframe\">\n",
       "  <thead>\n",
       "    <tr style=\"text-align: right;\">\n",
       "      <th></th>\n",
       "      <th>Amount</th>\n",
       "    </tr>\n",
       "  </thead>\n",
       "  <tbody>\n",
       "    <tr>\n",
       "      <th>Crypto Wallet</th>\n",
       "      <td>15529.321</td>\n",
       "    </tr>\n",
       "    <tr>\n",
       "      <th>Stock Shares</th>\n",
       "      <td>41008.500</td>\n",
       "    </tr>\n",
       "  </tbody>\n",
       "</table>\n",
       "</div>"
      ],
      "text/plain": [
       "                  Amount\n",
       "Crypto Wallet  15529.321\n",
       "Stock Shares   41008.500"
      ]
     },
     "metadata": {},
     "output_type": "display_data"
    }
   ],
   "source": [
    "# Create savings DataFrame\n",
    "df_assets= {\n",
    "    \"Amount\" : [sum_crypto_value,sum_shares_value]}\n",
    "\n",
    "# Set the index\n",
    "assets = [\"Crypto Wallet\", \"Stock Shares\"]\n",
    "\n",
    "# Create the shares DataFrame\n",
    "df_assets = pd.DataFrame(df_assets, index=assets)\n",
    "\n",
    "# Create the asset value DataFrame\n",
    "df_savings = pd.DataFrame(df_assets)\n",
    "\n",
    "# Display savings DataFrame\n",
    "display(df_savings)"
   ]
  },
  {
   "cell_type": "code",
   "execution_count": 21,
   "metadata": {},
   "outputs": [
    {
     "data": {
      "text/plain": [
       "<AxesSubplot:title={'center':'Savings asset composition'}, ylabel='Amount'>"
      ]
     },
     "execution_count": 21,
     "metadata": {},
     "output_type": "execute_result"
    },
    {
     "data": {
      "image/png": "[encoded data removed]",
      "text/plain": [
       "<Figure size 432x288 with 1 Axes>"
      ]
     },
     "metadata": {},
     "output_type": "display_data"
    }
   ],
   "source": [
    "# Plot the savings pie chart\n",
    "df_savings.plot.pie(y=\"Amount\", title=\"Savings asset composition\")"
   ]
  },
  {
   "cell_type": "code",
   "execution_count": 22,
   "metadata": {},
   "outputs": [
    {
     "name": "stdout",
     "output_type": "stream",
     "text": [
      "The ideal emergency fund is set to three times the monthly income, and you have $36000.00.\n"
     ]
    }
   ],
   "source": [
    "# Set ideal emergency fund\n",
    "monthly_income = 12000\n",
    "emergency_fund = monthly_income * 3\n",
    "print(f\"The ideal emergency fund is set to three times the monthly income, and you have ${emergency_fund:0.2f}.\")"
   ]
  },
  {
   "cell_type": "code",
   "execution_count": 23,
   "metadata": {},
   "outputs": [
    {
     "name": "stdout",
     "output_type": "stream",
     "text": [
      "The current value of the crypto assets and stock assets is $56537.82.\n"
     ]
    }
   ],
   "source": [
    "# Calculate total amount of savings\n",
    "total_savings = sum_crypto_value + sum_shares_value\n",
    "print(f\"The current value of the crypto assets and stock assets is ${total_savings:0.2f}.\")"
   ]
  },
  {
   "cell_type": "code",
   "execution_count": 24,
   "metadata": {},
   "outputs": [
    {
     "data": {
      "text/plain": [
       "20537.820999999996"
      ]
     },
     "execution_count": 24,
     "metadata": {},
     "output_type": "execute_result"
    }
   ],
   "source": [
    "# Calculate difference between total_savings and emergency fund\n",
    "health_savings = total_savings - emergency_fund\n",
    "health_savings"
   ]
  },
  {
   "cell_type": "code",
   "execution_count": 25,
   "metadata": {},
   "outputs": [
    {
     "name": "stdout",
     "output_type": "stream",
     "text": [
      "Congratulations, you have enough money an emergency fund.\n",
      "Congratulations on reaching your financial goal.\n"
     ]
    }
   ],
   "source": [
    "# Validate savings health\n",
    "# Compare total savings to emergency fund\n",
    "if total_savings >= emergency_fund:\n",
    "    print(\"Congratulations, you have enough money an emergency fund.\")\n",
    "    print(\"Congratulations on reaching your financial goal.\")\n",
    "elif total_savings < emergency_fund: \n",
    "     print(f\"You are ${(health_savings*-1):0.2f} away from reaching the goal of saving three times of your monthly expenses.\")"
   ]
  },
  {
   "cell_type": "markdown",
   "metadata": {},
   "source": [
    "## Part 2 - Retirement Planning\n",
    "\n",
    "### Monte Carlo Simulation"
   ]
  },
  {
   "cell_type": "code",
   "execution_count": 26,
   "metadata": {},
   "outputs": [],
   "source": [
    "# Set start and end dates of five years back from today.\n",
    "# Sample results may vary from the solution based on the time frame chosen\n",
    "start_date = pd.Timestamp(\"2020-08-27\", tz=\"America/Chicago\").isoformat()\n",
    "end_date = pd.Timestamp(\"2015-08-27\", tz=\"America/Chicago\").isoformat()"
   ]
  },
  {
   "cell_type": "code",
   "execution_count": 32,
   "metadata": {},
   "outputs": [
    {
     "data": {
      "text/html": [
       "<div>\n",
       "<style scoped>\n",
       "    .dataframe tbody tr th:only-of-type {\n",
       "        vertical-align: middle;\n",
       "    }\n",
       "\n",
       "    .dataframe tbody tr th {\n",
       "        vertical-align: top;\n",
       "    }\n",
       "\n",
       "    .dataframe thead tr th {\n",
       "        text-align: left;\n",
       "    }\n",
       "\n",
       "    .dataframe thead tr:last-of-type th {\n",
       "        text-align: right;\n",
       "    }\n",
       "</style>\n",
       "<table border=\"1\" class=\"dataframe\">\n",
       "  <thead>\n",
       "    <tr>\n",
       "      <th></th>\n",
       "      <th colspan=\"5\" halign=\"left\">AGG</th>\n",
       "      <th colspan=\"5\" halign=\"left\">SPY</th>\n",
       "    </tr>\n",
       "    <tr>\n",
       "      <th></th>\n",
       "      <th>open</th>\n",
       "      <th>high</th>\n",
       "      <th>low</th>\n",
       "      <th>close</th>\n",
       "      <th>volume</th>\n",
       "      <th>open</th>\n",
       "      <th>high</th>\n",
       "      <th>low</th>\n",
       "      <th>close</th>\n",
       "      <th>volume</th>\n",
       "    </tr>\n",
       "    <tr>\n",
       "      <th>time</th>\n",
       "      <th></th>\n",
       "      <th></th>\n",
       "      <th></th>\n",
       "      <th></th>\n",
       "      <th></th>\n",
       "      <th></th>\n",
       "      <th></th>\n",
       "      <th></th>\n",
       "      <th></th>\n",
       "      <th></th>\n",
       "    </tr>\n",
       "  </thead>\n",
       "  <tbody>\n",
       "    <tr>\n",
       "      <th>2015-08-27 00:00:00-04:00</th>\n",
       "      <td>108.95</td>\n",
       "      <td>109.195</td>\n",
       "      <td>108.93</td>\n",
       "      <td>109.100</td>\n",
       "      <td>3454665.0</td>\n",
       "      <td>197.02</td>\n",
       "      <td>199.410</td>\n",
       "      <td>195.21</td>\n",
       "      <td>199.28</td>\n",
       "      <td>226847229</td>\n",
       "    </tr>\n",
       "    <tr>\n",
       "      <th>2015-08-28 00:00:00-04:00</th>\n",
       "      <td>109.34</td>\n",
       "      <td>109.370</td>\n",
       "      <td>108.93</td>\n",
       "      <td>109.001</td>\n",
       "      <td>4604866.0</td>\n",
       "      <td>198.50</td>\n",
       "      <td>199.835</td>\n",
       "      <td>197.92</td>\n",
       "      <td>199.28</td>\n",
       "      <td>111959716</td>\n",
       "    </tr>\n",
       "    <tr>\n",
       "      <th>2015-08-31 00:00:00-04:00</th>\n",
       "      <td>109.28</td>\n",
       "      <td>109.370</td>\n",
       "      <td>108.90</td>\n",
       "      <td>108.920</td>\n",
       "      <td>3866305.0</td>\n",
       "      <td>198.11</td>\n",
       "      <td>199.125</td>\n",
       "      <td>197.01</td>\n",
       "      <td>197.60</td>\n",
       "      <td>108023599</td>\n",
       "    </tr>\n",
       "    <tr>\n",
       "      <th>2015-09-01 00:00:00-04:00</th>\n",
       "      <td>108.83</td>\n",
       "      <td>109.110</td>\n",
       "      <td>108.77</td>\n",
       "      <td>109.010</td>\n",
       "      <td>3083045.0</td>\n",
       "      <td>193.12</td>\n",
       "      <td>194.770</td>\n",
       "      <td>190.73</td>\n",
       "      <td>191.61</td>\n",
       "      <td>173963880</td>\n",
       "    </tr>\n",
       "    <tr>\n",
       "      <th>2015-09-02 00:00:00-04:00</th>\n",
       "      <td>108.92</td>\n",
       "      <td>109.050</td>\n",
       "      <td>108.81</td>\n",
       "      <td>108.900</td>\n",
       "      <td>3273302.0</td>\n",
       "      <td>194.65</td>\n",
       "      <td>195.460</td>\n",
       "      <td>192.42</td>\n",
       "      <td>195.46</td>\n",
       "      <td>120044919</td>\n",
       "    </tr>\n",
       "  </tbody>\n",
       "</table>\n",
       "</div>"
      ],
      "text/plain": [
       "                              AGG                                       \\\n",
       "                             open     high     low    close     volume   \n",
       "time                                                                     \n",
       "2015-08-27 00:00:00-04:00  108.95  109.195  108.93  109.100  3454665.0   \n",
       "2015-08-28 00:00:00-04:00  109.34  109.370  108.93  109.001  4604866.0   \n",
       "2015-08-31 00:00:00-04:00  109.28  109.370  108.90  108.920  3866305.0   \n",
       "2015-09-01 00:00:00-04:00  108.83  109.110  108.77  109.010  3083045.0   \n",
       "2015-09-02 00:00:00-04:00  108.92  109.050  108.81  108.900  3273302.0   \n",
       "\n",
       "                              SPY                                      \n",
       "                             open     high     low   close     volume  \n",
       "time                                                                   \n",
       "2015-08-27 00:00:00-04:00  197.02  199.410  195.21  199.28  226847229  \n",
       "2015-08-28 00:00:00-04:00  198.50  199.835  197.92  199.28  111959716  \n",
       "2015-08-31 00:00:00-04:00  198.11  199.125  197.01  197.60  108023599  \n",
       "2015-09-01 00:00:00-04:00  193.12  194.770  190.73  191.61  173963880  \n",
       "2015-09-02 00:00:00-04:00  194.65  195.460  192.42  195.46  120044919  "
      ]
     },
     "execution_count": 32,
     "metadata": {},
     "output_type": "execute_result"
    }
   ],
   "source": [
    "# Get 5 years' worth of historical data for SPY and AGG\n",
    "df_stock_data = alpaca.get_barset(\n",
    "    tickers,\n",
    "    timeframe,\n",
    "    start=start_date,\n",
    "    end=end_date,\n",
    ").df\n",
    "\n",
    "# Display sample data\n",
    "df_stock_data.head()"
   ]
  },
  {
   "cell_type": "code",
   "execution_count": 33,
   "metadata": {},
   "outputs": [
    {
     "name": "stdout",
     "output_type": "stream",
     "text": [
      "Starting on 2015-08-27T16:10:21.354658-05:00, \n",
      "and ending on 2020-08-27 16:10:21.354658-05:00.\n"
     ]
    }
   ],
   "source": [
    "# Get previous 5 year of prices\n",
    "end_date = pd.Timestamp.now(tz=\"America/Chicago\")\n",
    "start_date = (end_date - pd.DateOffset(years=5)).isoformat()\n",
    "print(f\"Starting on {start_date}, \\n\"\n",
    "      f\"and ending on {end_date}.\")"
   ]
  },
  {
   "cell_type": "code",
   "execution_count": 38,
   "metadata": {},
   "outputs": [
    {
     "data": {
      "text/html": [
       "<div>\n",
       "<style scoped>\n",
       "    .dataframe tbody tr th:only-of-type {\n",
       "        vertical-align: middle;\n",
       "    }\n",
       "\n",
       "    .dataframe tbody tr th {\n",
       "        vertical-align: top;\n",
       "    }\n",
       "\n",
       "    .dataframe thead tr th {\n",
       "        text-align: left;\n",
       "    }\n",
       "\n",
       "    .dataframe thead tr:last-of-type th {\n",
       "        text-align: right;\n",
       "    }\n",
       "</style>\n",
       "<table border=\"1\" class=\"dataframe\">\n",
       "  <thead>\n",
       "    <tr>\n",
       "      <th></th>\n",
       "      <th colspan=\"6\" halign=\"left\">AGG</th>\n",
       "      <th colspan=\"6\" halign=\"left\">SPY</th>\n",
       "    </tr>\n",
       "    <tr>\n",
       "      <th></th>\n",
       "      <th>open</th>\n",
       "      <th>high</th>\n",
       "      <th>low</th>\n",
       "      <th>close</th>\n",
       "      <th>volume</th>\n",
       "      <th>daily_return</th>\n",
       "      <th>open</th>\n",
       "      <th>high</th>\n",
       "      <th>low</th>\n",
       "      <th>close</th>\n",
       "      <th>volume</th>\n",
       "      <th>daily_return</th>\n",
       "    </tr>\n",
       "    <tr>\n",
       "      <th>time</th>\n",
       "      <th></th>\n",
       "      <th></th>\n",
       "      <th></th>\n",
       "      <th></th>\n",
       "      <th></th>\n",
       "      <th></th>\n",
       "      <th></th>\n",
       "      <th></th>\n",
       "      <th></th>\n",
       "      <th></th>\n",
       "      <th></th>\n",
       "      <th></th>\n",
       "    </tr>\n",
       "  </thead>\n",
       "  <tbody>\n",
       "    <tr>\n",
       "      <th>2020-08-21 00:00:00-04:00</th>\n",
       "      <td>118.74</td>\n",
       "      <td>118.7600</td>\n",
       "      <td>118.550</td>\n",
       "      <td>118.69</td>\n",
       "      <td>9369852.0</td>\n",
       "      <td>0.001012</td>\n",
       "      <td>337.92</td>\n",
       "      <td>339.72</td>\n",
       "      <td>337.5500</td>\n",
       "      <td>339.4400</td>\n",
       "      <td>85164214</td>\n",
       "      <td>0.003518</td>\n",
       "    </tr>\n",
       "    <tr>\n",
       "      <th>2020-08-24 00:00:00-04:00</th>\n",
       "      <td>118.72</td>\n",
       "      <td>118.8200</td>\n",
       "      <td>118.600</td>\n",
       "      <td>118.62</td>\n",
       "      <td>8887200.0</td>\n",
       "      <td>-0.000590</td>\n",
       "      <td>342.12</td>\n",
       "      <td>343.00</td>\n",
       "      <td>339.4504</td>\n",
       "      <td>342.9400</td>\n",
       "      <td>79073131</td>\n",
       "      <td>0.010311</td>\n",
       "    </tr>\n",
       "    <tr>\n",
       "      <th>2020-08-25 00:00:00-04:00</th>\n",
       "      <td>118.35</td>\n",
       "      <td>118.4600</td>\n",
       "      <td>118.182</td>\n",
       "      <td>118.39</td>\n",
       "      <td>7179314.0</td>\n",
       "      <td>-0.001939</td>\n",
       "      <td>343.53</td>\n",
       "      <td>344.21</td>\n",
       "      <td>342.2700</td>\n",
       "      <td>344.0999</td>\n",
       "      <td>64468899</td>\n",
       "      <td>0.003382</td>\n",
       "    </tr>\n",
       "    <tr>\n",
       "      <th>2020-08-26 00:00:00-04:00</th>\n",
       "      <td>118.35</td>\n",
       "      <td>118.4199</td>\n",
       "      <td>118.210</td>\n",
       "      <td>118.36</td>\n",
       "      <td>9825986.0</td>\n",
       "      <td>-0.000253</td>\n",
       "      <td>344.76</td>\n",
       "      <td>347.86</td>\n",
       "      <td>344.1700</td>\n",
       "      <td>347.5600</td>\n",
       "      <td>87596268</td>\n",
       "      <td>0.010056</td>\n",
       "    </tr>\n",
       "    <tr>\n",
       "      <th>2020-08-27 00:00:00-04:00</th>\n",
       "      <td>118.55</td>\n",
       "      <td>118.5600</td>\n",
       "      <td>117.950</td>\n",
       "      <td>117.97</td>\n",
       "      <td>10931474.0</td>\n",
       "      <td>-0.003295</td>\n",
       "      <td>348.51</td>\n",
       "      <td>349.90</td>\n",
       "      <td>346.5300</td>\n",
       "      <td>348.2900</td>\n",
       "      <td>103934256</td>\n",
       "      <td>0.002100</td>\n",
       "    </tr>\n",
       "  </tbody>\n",
       "</table>\n",
       "</div>"
      ],
      "text/plain": [
       "                              AGG                                         \\\n",
       "                             open      high      low   close      volume   \n",
       "time                                                                       \n",
       "2020-08-21 00:00:00-04:00  118.74  118.7600  118.550  118.69   9369852.0   \n",
       "2020-08-24 00:00:00-04:00  118.72  118.8200  118.600  118.62   8887200.0   \n",
       "2020-08-25 00:00:00-04:00  118.35  118.4600  118.182  118.39   7179314.0   \n",
       "2020-08-26 00:00:00-04:00  118.35  118.4199  118.210  118.36   9825986.0   \n",
       "2020-08-27 00:00:00-04:00  118.55  118.5600  117.950  117.97  10931474.0   \n",
       "\n",
       "                                           SPY                              \\\n",
       "                          daily_return    open    high       low     close   \n",
       "time                                                                         \n",
       "2020-08-21 00:00:00-04:00     0.001012  337.92  339.72  337.5500  339.4400   \n",
       "2020-08-24 00:00:00-04:00    -0.000590  342.12  343.00  339.4504  342.9400   \n",
       "2020-08-25 00:00:00-04:00    -0.001939  343.53  344.21  342.2700  344.0999   \n",
       "2020-08-26 00:00:00-04:00    -0.000253  344.76  347.86  344.1700  347.5600   \n",
       "2020-08-27 00:00:00-04:00    -0.003295  348.51  349.90  346.5300  348.2900   \n",
       "\n",
       "                                                   \n",
       "                              volume daily_return  \n",
       "time                                               \n",
       "2020-08-21 00:00:00-04:00   85164214     0.003518  \n",
       "2020-08-24 00:00:00-04:00   79073131     0.010311  \n",
       "2020-08-25 00:00:00-04:00   64468899     0.003382  \n",
       "2020-08-26 00:00:00-04:00   87596268     0.010056  \n",
       "2020-08-27 00:00:00-04:00  103934256     0.002100  "
      ]
     },
     "execution_count": 38,
     "metadata": {},
     "output_type": "execute_result"
    }
   ],
   "source": [
    "# Configure a Monte Carlo simulation to forecast 30 years cumulative returns\n",
    "MC_weight = MCSimulation(\n",
    "    portfolio_data = df_stock_data,\n",
    "    weights = [.40,.60],\n",
    "    num_simulation = 500,\n",
    "    num_trading_days = 252*30\n",
    ")\n",
    "\n",
    "# Print the simulation input data\n",
    "MC_weight.portfolio_data.tail()"
   ]
  },
  {
   "cell_type": "code",
   "execution_count": 39,
   "metadata": {},
   "outputs": [
    {
     "name": "stdout",
     "output_type": "stream",
     "text": [
      "Running Monte Carlo simulation number 0.\n",
      "Running Monte Carlo simulation number 100.\n",
      "Running Monte Carlo simulation number 200.\n",
      "Running Monte Carlo simulation number 300.\n",
      "Running Monte Carlo simulation number 400.\n"
     ]
    },
    {
     "data": {
      "text/html": [
       "<div>\n",
       "<style scoped>\n",
       "    .dataframe tbody tr th:only-of-type {\n",
       "        vertical-align: middle;\n",
       "    }\n",
       "\n",
       "    .dataframe tbody tr th {\n",
       "        vertical-align: top;\n",
       "    }\n",
       "\n",
       "    .dataframe thead th {\n",
       "        text-align: right;\n",
       "    }\n",
       "</style>\n",
       "<table border=\"1\" class=\"dataframe\">\n",
       "  <thead>\n",
       "    <tr style=\"text-align: right;\">\n",
       "      <th></th>\n",
       "      <th>0</th>\n",
       "      <th>1</th>\n",
       "      <th>2</th>\n",
       "      <th>3</th>\n",
       "      <th>4</th>\n",
       "      <th>5</th>\n",
       "      <th>6</th>\n",
       "      <th>7</th>\n",
       "      <th>8</th>\n",
       "      <th>9</th>\n",
       "      <th>...</th>\n",
       "      <th>490</th>\n",
       "      <th>491</th>\n",
       "      <th>492</th>\n",
       "      <th>493</th>\n",
       "      <th>494</th>\n",
       "      <th>495</th>\n",
       "      <th>496</th>\n",
       "      <th>497</th>\n",
       "      <th>498</th>\n",
       "      <th>499</th>\n",
       "    </tr>\n",
       "  </thead>\n",
       "  <tbody>\n",
       "    <tr>\n",
       "      <th>0</th>\n",
       "      <td>1.000000</td>\n",
       "      <td>1.000000</td>\n",
       "      <td>1.000000</td>\n",
       "      <td>1.000000</td>\n",
       "      <td>1.000000</td>\n",
       "      <td>1.000000</td>\n",
       "      <td>1.000000</td>\n",
       "      <td>1.000000</td>\n",
       "      <td>1.000000</td>\n",
       "      <td>1.000000</td>\n",
       "      <td>...</td>\n",
       "      <td>1.000000</td>\n",
       "      <td>1.000000</td>\n",
       "      <td>1.000000</td>\n",
       "      <td>1.000000</td>\n",
       "      <td>1.000000</td>\n",
       "      <td>1.000000</td>\n",
       "      <td>1.000000</td>\n",
       "      <td>1.000000</td>\n",
       "      <td>1.000000</td>\n",
       "      <td>1.000000</td>\n",
       "    </tr>\n",
       "    <tr>\n",
       "      <th>1</th>\n",
       "      <td>1.011010</td>\n",
       "      <td>0.995481</td>\n",
       "      <td>0.991704</td>\n",
       "      <td>0.994013</td>\n",
       "      <td>0.999716</td>\n",
       "      <td>0.996608</td>\n",
       "      <td>0.999897</td>\n",
       "      <td>0.999952</td>\n",
       "      <td>0.994564</td>\n",
       "      <td>0.995810</td>\n",
       "      <td>...</td>\n",
       "      <td>0.982041</td>\n",
       "      <td>1.005966</td>\n",
       "      <td>1.006523</td>\n",
       "      <td>0.991069</td>\n",
       "      <td>1.004736</td>\n",
       "      <td>0.994201</td>\n",
       "      <td>1.008189</td>\n",
       "      <td>0.991519</td>\n",
       "      <td>1.000730</td>\n",
       "      <td>0.997823</td>\n",
       "    </tr>\n",
       "    <tr>\n",
       "      <th>2</th>\n",
       "      <td>1.010967</td>\n",
       "      <td>0.995299</td>\n",
       "      <td>0.986302</td>\n",
       "      <td>0.987466</td>\n",
       "      <td>1.006638</td>\n",
       "      <td>0.997249</td>\n",
       "      <td>0.994891</td>\n",
       "      <td>1.002776</td>\n",
       "      <td>1.007504</td>\n",
       "      <td>0.995788</td>\n",
       "      <td>...</td>\n",
       "      <td>0.982983</td>\n",
       "      <td>1.005325</td>\n",
       "      <td>1.001416</td>\n",
       "      <td>0.985876</td>\n",
       "      <td>0.993383</td>\n",
       "      <td>0.991163</td>\n",
       "      <td>1.003558</td>\n",
       "      <td>0.995408</td>\n",
       "      <td>1.006993</td>\n",
       "      <td>0.998688</td>\n",
       "    </tr>\n",
       "    <tr>\n",
       "      <th>3</th>\n",
       "      <td>1.018345</td>\n",
       "      <td>0.992712</td>\n",
       "      <td>0.981826</td>\n",
       "      <td>0.977401</td>\n",
       "      <td>1.005857</td>\n",
       "      <td>1.000965</td>\n",
       "      <td>1.005293</td>\n",
       "      <td>1.000298</td>\n",
       "      <td>1.002897</td>\n",
       "      <td>0.982480</td>\n",
       "      <td>...</td>\n",
       "      <td>0.988562</td>\n",
       "      <td>0.989778</td>\n",
       "      <td>1.019252</td>\n",
       "      <td>0.990675</td>\n",
       "      <td>1.003560</td>\n",
       "      <td>1.000586</td>\n",
       "      <td>0.997946</td>\n",
       "      <td>0.998189</td>\n",
       "      <td>1.000273</td>\n",
       "      <td>0.990584</td>\n",
       "    </tr>\n",
       "    <tr>\n",
       "      <th>4</th>\n",
       "      <td>1.013862</td>\n",
       "      <td>0.988657</td>\n",
       "      <td>0.979160</td>\n",
       "      <td>0.975031</td>\n",
       "      <td>0.999532</td>\n",
       "      <td>0.998018</td>\n",
       "      <td>0.987420</td>\n",
       "      <td>1.003265</td>\n",
       "      <td>1.001348</td>\n",
       "      <td>0.979630</td>\n",
       "      <td>...</td>\n",
       "      <td>0.995493</td>\n",
       "      <td>0.977081</td>\n",
       "      <td>1.014618</td>\n",
       "      <td>0.993044</td>\n",
       "      <td>1.009294</td>\n",
       "      <td>1.016832</td>\n",
       "      <td>0.998095</td>\n",
       "      <td>0.990651</td>\n",
       "      <td>0.987557</td>\n",
       "      <td>0.983571</td>\n",
       "    </tr>\n",
       "    <tr>\n",
       "      <th>...</th>\n",
       "      <td>...</td>\n",
       "      <td>...</td>\n",
       "      <td>...</td>\n",
       "      <td>...</td>\n",
       "      <td>...</td>\n",
       "      <td>...</td>\n",
       "      <td>...</td>\n",
       "      <td>...</td>\n",
       "      <td>...</td>\n",
       "      <td>...</td>\n",
       "      <td>...</td>\n",
       "      <td>...</td>\n",
       "      <td>...</td>\n",
       "      <td>...</td>\n",
       "      <td>...</td>\n",
       "      <td>...</td>\n",
       "      <td>...</td>\n",
       "      <td>...</td>\n",
       "      <td>...</td>\n",
       "      <td>...</td>\n",
       "      <td>...</td>\n",
       "    </tr>\n",
       "    <tr>\n",
       "      <th>7556</th>\n",
       "      <td>5.513725</td>\n",
       "      <td>4.274221</td>\n",
       "      <td>8.456372</td>\n",
       "      <td>10.176184</td>\n",
       "      <td>13.646657</td>\n",
       "      <td>26.443090</td>\n",
       "      <td>5.146620</td>\n",
       "      <td>3.320010</td>\n",
       "      <td>7.828414</td>\n",
       "      <td>10.622399</td>\n",
       "      <td>...</td>\n",
       "      <td>8.155593</td>\n",
       "      <td>15.056757</td>\n",
       "      <td>21.938248</td>\n",
       "      <td>4.473152</td>\n",
       "      <td>4.028710</td>\n",
       "      <td>11.663597</td>\n",
       "      <td>2.169049</td>\n",
       "      <td>13.452511</td>\n",
       "      <td>5.292494</td>\n",
       "      <td>9.841532</td>\n",
       "    </tr>\n",
       "    <tr>\n",
       "      <th>7557</th>\n",
       "      <td>5.506197</td>\n",
       "      <td>4.257731</td>\n",
       "      <td>8.503628</td>\n",
       "      <td>10.254686</td>\n",
       "      <td>13.383667</td>\n",
       "      <td>26.403022</td>\n",
       "      <td>5.208918</td>\n",
       "      <td>3.328793</td>\n",
       "      <td>7.843904</td>\n",
       "      <td>10.618568</td>\n",
       "      <td>...</td>\n",
       "      <td>8.189181</td>\n",
       "      <td>14.832758</td>\n",
       "      <td>22.330760</td>\n",
       "      <td>4.486765</td>\n",
       "      <td>4.020199</td>\n",
       "      <td>11.676737</td>\n",
       "      <td>2.182394</td>\n",
       "      <td>13.619149</td>\n",
       "      <td>5.265607</td>\n",
       "      <td>9.846913</td>\n",
       "    </tr>\n",
       "    <tr>\n",
       "      <th>7558</th>\n",
       "      <td>5.490688</td>\n",
       "      <td>4.226904</td>\n",
       "      <td>8.481702</td>\n",
       "      <td>10.255089</td>\n",
       "      <td>13.491069</td>\n",
       "      <td>26.639722</td>\n",
       "      <td>5.195237</td>\n",
       "      <td>3.318084</td>\n",
       "      <td>7.857091</td>\n",
       "      <td>10.465077</td>\n",
       "      <td>...</td>\n",
       "      <td>8.181830</td>\n",
       "      <td>15.018309</td>\n",
       "      <td>22.213760</td>\n",
       "      <td>4.474594</td>\n",
       "      <td>4.015391</td>\n",
       "      <td>11.680482</td>\n",
       "      <td>2.182929</td>\n",
       "      <td>13.770574</td>\n",
       "      <td>5.261836</td>\n",
       "      <td>9.860103</td>\n",
       "    </tr>\n",
       "    <tr>\n",
       "      <th>7559</th>\n",
       "      <td>5.513778</td>\n",
       "      <td>4.225543</td>\n",
       "      <td>8.375853</td>\n",
       "      <td>10.345792</td>\n",
       "      <td>13.519859</td>\n",
       "      <td>26.687734</td>\n",
       "      <td>5.209342</td>\n",
       "      <td>3.328423</td>\n",
       "      <td>7.773365</td>\n",
       "      <td>10.481959</td>\n",
       "      <td>...</td>\n",
       "      <td>8.184311</td>\n",
       "      <td>15.005533</td>\n",
       "      <td>22.330022</td>\n",
       "      <td>4.482970</td>\n",
       "      <td>4.034558</td>\n",
       "      <td>11.792224</td>\n",
       "      <td>2.165382</td>\n",
       "      <td>13.642894</td>\n",
       "      <td>5.256985</td>\n",
       "      <td>9.894194</td>\n",
       "    </tr>\n",
       "    <tr>\n",
       "      <th>7560</th>\n",
       "      <td>5.511553</td>\n",
       "      <td>4.245422</td>\n",
       "      <td>8.349595</td>\n",
       "      <td>10.322532</td>\n",
       "      <td>13.548424</td>\n",
       "      <td>26.868978</td>\n",
       "      <td>5.171130</td>\n",
       "      <td>3.331765</td>\n",
       "      <td>7.789865</td>\n",
       "      <td>10.346047</td>\n",
       "      <td>...</td>\n",
       "      <td>8.296786</td>\n",
       "      <td>14.949744</td>\n",
       "      <td>22.219535</td>\n",
       "      <td>4.558835</td>\n",
       "      <td>4.003666</td>\n",
       "      <td>11.701517</td>\n",
       "      <td>2.136097</td>\n",
       "      <td>13.583175</td>\n",
       "      <td>5.287715</td>\n",
       "      <td>9.860633</td>\n",
       "    </tr>\n",
       "  </tbody>\n",
       "</table>\n",
       "<p>7561 rows × 500 columns</p>\n",
       "</div>"
      ],
      "text/plain": [
       "           0         1         2          3          4          5         6    \\\n",
       "0     1.000000  1.000000  1.000000   1.000000   1.000000   1.000000  1.000000   \n",
       "1     1.011010  0.995481  0.991704   0.994013   0.999716   0.996608  0.999897   \n",
       "2     1.010967  0.995299  0.986302   0.987466   1.006638   0.997249  0.994891   \n",
       "3     1.018345  0.992712  0.981826   0.977401   1.005857   1.000965  1.005293   \n",
       "4     1.013862  0.988657  0.979160   0.975031   0.999532   0.998018  0.987420   \n",
       "...        ...       ...       ...        ...        ...        ...       ...   \n",
       "7556  5.513725  4.274221  8.456372  10.176184  13.646657  26.443090  5.146620   \n",
       "7557  5.506197  4.257731  8.503628  10.254686  13.383667  26.403022  5.208918   \n",
       "7558  5.490688  4.226904  8.481702  10.255089  13.491069  26.639722  5.195237   \n",
       "7559  5.513778  4.225543  8.375853  10.345792  13.519859  26.687734  5.209342   \n",
       "7560  5.511553  4.245422  8.349595  10.322532  13.548424  26.868978  5.171130   \n",
       "\n",
       "           7         8          9    ...       490        491        492  \\\n",
       "0     1.000000  1.000000   1.000000  ...  1.000000   1.000000   1.000000   \n",
       "1     0.999952  0.994564   0.995810  ...  0.982041   1.005966   1.006523   \n",
       "2     1.002776  1.007504   0.995788  ...  0.982983   1.005325   1.001416   \n",
       "3     1.000298  1.002897   0.982480  ...  0.988562   0.989778   1.019252   \n",
       "4     1.003265  1.001348   0.979630  ...  0.995493   0.977081   1.014618   \n",
       "...        ...       ...        ...  ...       ...        ...        ...   \n",
       "7556  3.320010  7.828414  10.622399  ...  8.155593  15.056757  21.938248   \n",
       "7557  3.328793  7.843904  10.618568  ...  8.189181  14.832758  22.330760   \n",
       "7558  3.318084  7.857091  10.465077  ...  8.181830  15.018309  22.213760   \n",
       "7559  3.328423  7.773365  10.481959  ...  8.184311  15.005533  22.330022   \n",
       "7560  3.331765  7.789865  10.346047  ...  8.296786  14.949744  22.219535   \n",
       "\n",
       "           493       494        495       496        497       498       499  \n",
       "0     1.000000  1.000000   1.000000  1.000000   1.000000  1.000000  1.000000  \n",
       "1     0.991069  1.004736   0.994201  1.008189   0.991519  1.000730  0.997823  \n",
       "2     0.985876  0.993383   0.991163  1.003558   0.995408  1.006993  0.998688  \n",
       "3     0.990675  1.003560   1.000586  0.997946   0.998189  1.000273  0.990584  \n",
       "4     0.993044  1.009294   1.016832  0.998095   0.990651  0.987557  0.983571  \n",
       "...        ...       ...        ...       ...        ...       ...       ...  \n",
       "7556  4.473152  4.028710  11.663597  2.169049  13.452511  5.292494  9.841532  \n",
       "7557  4.486765  4.020199  11.676737  2.182394  13.619149  5.265607  9.846913  \n",
       "7558  4.474594  4.015391  11.680482  2.182929  13.770574  5.261836  9.860103  \n",
       "7559  4.482970  4.034558  11.792224  2.165382  13.642894  5.256985  9.894194  \n",
       "7560  4.558835  4.003666  11.701517  2.136097  13.583175  5.287715  9.860633  \n",
       "\n",
       "[7561 rows x 500 columns]"
      ]
     },
     "execution_count": 39,
     "metadata": {},
     "output_type": "execute_result"
    }
   ],
   "source": [
    "# Run a Monte Carlo simulation to forecast 30 years cumulative returns\n",
    "# Remember to restart kernel.  Changed setting in MCForecastTools.py\n",
    "# from n%10 == to n%100, so print less simulations\n",
    "MC_weight.calc_cumulative_return()"
   ]
  },
  {
   "cell_type": "code",
   "execution_count": 40,
   "metadata": {},
   "outputs": [
    {
     "data": {
      "text/html": [
       "<div>\n",
       "<style scoped>\n",
       "    .dataframe tbody tr th:only-of-type {\n",
       "        vertical-align: middle;\n",
       "    }\n",
       "\n",
       "    .dataframe tbody tr th {\n",
       "        vertical-align: top;\n",
       "    }\n",
       "\n",
       "    .dataframe thead th {\n",
       "        text-align: right;\n",
       "    }\n",
       "</style>\n",
       "<table border=\"1\" class=\"dataframe\">\n",
       "  <thead>\n",
       "    <tr style=\"text-align: right;\">\n",
       "      <th></th>\n",
       "      <th>mean</th>\n",
       "      <th>median</th>\n",
       "      <th>min</th>\n",
       "      <th>max</th>\n",
       "    </tr>\n",
       "  </thead>\n",
       "  <tbody>\n",
       "    <tr>\n",
       "      <th>7556</th>\n",
       "      <td>12.733034</td>\n",
       "      <td>10.630667</td>\n",
       "      <td>1.316541</td>\n",
       "      <td>53.483387</td>\n",
       "    </tr>\n",
       "    <tr>\n",
       "      <th>7557</th>\n",
       "      <td>12.728306</td>\n",
       "      <td>10.678551</td>\n",
       "      <td>1.321425</td>\n",
       "      <td>53.462832</td>\n",
       "    </tr>\n",
       "    <tr>\n",
       "      <th>7558</th>\n",
       "      <td>12.724185</td>\n",
       "      <td>10.649706</td>\n",
       "      <td>1.328736</td>\n",
       "      <td>53.949025</td>\n",
       "    </tr>\n",
       "    <tr>\n",
       "      <th>7559</th>\n",
       "      <td>12.727902</td>\n",
       "      <td>10.668472</td>\n",
       "      <td>1.316438</td>\n",
       "      <td>54.028997</td>\n",
       "    </tr>\n",
       "    <tr>\n",
       "      <th>7560</th>\n",
       "      <td>12.727392</td>\n",
       "      <td>10.625765</td>\n",
       "      <td>1.327654</td>\n",
       "      <td>53.960593</td>\n",
       "    </tr>\n",
       "  </tbody>\n",
       "</table>\n",
       "</div>"
      ],
      "text/plain": [
       "           mean     median       min        max\n",
       "7556  12.733034  10.630667  1.316541  53.483387\n",
       "7557  12.728306  10.678551  1.321425  53.462832\n",
       "7558  12.724185  10.649706  1.328736  53.949025\n",
       "7559  12.727902  10.668472  1.316438  54.028997\n",
       "7560  12.727392  10.625765  1.327654  53.960593"
      ]
     },
     "execution_count": 40,
     "metadata": {},
     "output_type": "execute_result"
    }
   ],
   "source": [
    "# Compute summary statistics from the simulated daily returns\n",
    "simulated_returns_data = {\n",
    "    \"mean\": list(MC_weight.simulated_return.mean(axis=1)),\n",
    "    \"median\": list(MC_weight.simulated_return.median(axis=1)),\n",
    "    \"min\": list(MC_weight.simulated_return.min(axis=1)),\n",
    "    \"max\": list(MC_weight.simulated_return.max(axis=1))\n",
    "}\n",
    "\n",
    "# Create a DataFrame with the summary statistics\n",
    "df_simulated_returns = pd.DataFrame(simulated_returns_data)\n",
    "\n",
    "# Display sample data\n",
    "df_simulated_returns.tail()"
   ]
  },
  {
   "cell_type": "code",
   "execution_count": 41,
   "metadata": {},
   "outputs": [
    {
     "data": {
      "image/png": "[encoded data removed]",
      "text/plain": [
       "<Figure size 432x288 with 1 Axes>"
      ]
     },
     "metadata": {
      "needs_background": "light"
     },
     "output_type": "display_data"
    }
   ],
   "source": [
    "# Plot simulation outcomes\n",
    "line_plot = MC_weight.plot_simulation()"
   ]
  },
  {
   "cell_type": "code",
   "execution_count": 42,
   "metadata": {},
   "outputs": [
    {
     "data": {
      "image/png": "[encoded data removed]",
      "text/plain": [
       "<Figure size 432x288 with 1 Axes>"
      ]
     },
     "metadata": {
      "needs_background": "light"
     },
     "output_type": "display_data"
    }
   ],
   "source": [
    "# Plot probability distribution and confidence intervals\n",
    "dist_plot = MC_weight.plot_distribution()"
   ]
  },
  {
   "cell_type": "markdown",
   "metadata": {},
   "source": [
    "### Retirement Analysis"
   ]
  },
  {
   "cell_type": "code",
   "execution_count": 43,
   "metadata": {},
   "outputs": [
    {
     "name": "stdout",
     "output_type": "stream",
     "text": [
      "count           500.000000\n",
      "mean             12.727392\n",
      "std               7.866323\n",
      "min               1.327654\n",
      "25%               6.708682\n",
      "50%              10.625765\n",
      "75%              16.877561\n",
      "max              53.960593\n",
      "95% CI Lower      2.897140\n",
      "95% CI Upper     31.511108\n",
      "Name: 7560, dtype: float64\n"
     ]
    }
   ],
   "source": [
    "# Fetch summary statistics from the Monte Carlo simulation results\n",
    "tbl = MC_weight.summarize_cumulative_return()\n",
    "\n",
    "# Print summary statistics\n",
    "print(tbl)"
   ]
  },
  {
   "cell_type": "markdown",
   "metadata": {},
   "source": [
    "### Given an initial investment of $20,000, what is the expected portfolio return in dollars at the 95% lower and upper confidence intervals?"
   ]
  },
  {
   "cell_type": "code",
   "execution_count": 46,
   "metadata": {},
   "outputs": [
    {
     "name": "stdout",
     "output_type": "stream",
     "text": [
      "There is a 95% chance that an initial investment of $20000 in the portfolio over the next 30 years will end within in the range of $57942.8 and $630222.16.\n"
     ]
    }
   ],
   "source": [
    "# Set initial investment\n",
    "initial_investment = 20000\n",
    "\n",
    "# Use the lower and upper `95%` confidence intervals to calculate the range of the possible outcomes of our $20,000\n",
    "ci_lower = round(tbl[8]*20000,2)\n",
    "ci_upper = round(tbl[9]*20000,2)\n",
    "\n",
    "# Print results\n",
    "print(f\"There is a 95% chance that an initial investment of ${initial_investment} in the portfolio\"\n",
    "      f\" over the next 30 years will end within in the range of\"\n",
    "      f\" ${ci_lower} and ${ci_upper}.\")"
   ]
  },
  {
   "cell_type": "code",
   "execution_count": 47,
   "metadata": {},
   "outputs": [
    {
     "data": {
      "text/html": [
       "<div>\n",
       "<style scoped>\n",
       "    .dataframe tbody tr th:only-of-type {\n",
       "        vertical-align: middle;\n",
       "    }\n",
       "\n",
       "    .dataframe tbody tr th {\n",
       "        vertical-align: top;\n",
       "    }\n",
       "\n",
       "    .dataframe thead th {\n",
       "        text-align: right;\n",
       "    }\n",
       "</style>\n",
       "<table border=\"1\" class=\"dataframe\">\n",
       "  <thead>\n",
       "    <tr style=\"text-align: right;\">\n",
       "      <th></th>\n",
       "      <th>mean</th>\n",
       "      <th>median</th>\n",
       "      <th>min</th>\n",
       "      <th>max</th>\n",
       "    </tr>\n",
       "  </thead>\n",
       "  <tbody>\n",
       "    <tr>\n",
       "      <th>7556</th>\n",
       "      <td>254660.687347</td>\n",
       "      <td>212613.346007</td>\n",
       "      <td>26330.821944</td>\n",
       "      <td>1.069668e+06</td>\n",
       "    </tr>\n",
       "    <tr>\n",
       "      <th>7557</th>\n",
       "      <td>254566.121087</td>\n",
       "      <td>213571.018470</td>\n",
       "      <td>26428.492955</td>\n",
       "      <td>1.069257e+06</td>\n",
       "    </tr>\n",
       "    <tr>\n",
       "      <th>7558</th>\n",
       "      <td>254483.696812</td>\n",
       "      <td>212994.123204</td>\n",
       "      <td>26574.723736</td>\n",
       "      <td>1.078980e+06</td>\n",
       "    </tr>\n",
       "    <tr>\n",
       "      <th>7559</th>\n",
       "      <td>254558.032835</td>\n",
       "      <td>213369.431663</td>\n",
       "      <td>26328.758173</td>\n",
       "      <td>1.080580e+06</td>\n",
       "    </tr>\n",
       "    <tr>\n",
       "      <th>7560</th>\n",
       "      <td>254547.837885</td>\n",
       "      <td>212515.291763</td>\n",
       "      <td>26553.073940</td>\n",
       "      <td>1.079212e+06</td>\n",
       "    </tr>\n",
       "  </tbody>\n",
       "</table>\n",
       "</div>"
      ],
      "text/plain": [
       "               mean         median           min           max\n",
       "7556  254660.687347  212613.346007  26330.821944  1.069668e+06\n",
       "7557  254566.121087  213571.018470  26428.492955  1.069257e+06\n",
       "7558  254483.696812  212994.123204  26574.723736  1.078980e+06\n",
       "7559  254558.032835  213369.431663  26328.758173  1.080580e+06\n",
       "7560  254547.837885  212515.291763  26553.073940  1.079212e+06"
      ]
     },
     "execution_count": 47,
     "metadata": {},
     "output_type": "execute_result"
    }
   ],
   "source": [
    "# Multiply an initial investment by the daily returns of simulative stock prices to return the progression of daily returns in terms of money\n",
    "cumulative_pnl = initial_investment * df_simulated_returns\n",
    "\n",
    "# Display sample data\n",
    "cumulative_pnl.tail()"
   ]
  },
  {
   "cell_type": "markdown",
   "metadata": {},
   "source": [
    "### How would a 50% increase in the initial investment amount affect the expected portfolio return in dollars at the 95% lower and upper confidence intervals?"
   ]
  },
  {
   "cell_type": "code",
   "execution_count": 48,
   "metadata": {},
   "outputs": [
    {
     "name": "stdout",
     "output_type": "stream",
     "text": [
      "There is a 95% chance that an initial investment of $30000.0 in the portfolio over the next 30 years will end within in the range of $57942.8 and $630222.16\n"
     ]
    }
   ],
   "source": [
    "# Set initial investment\n",
    "initial_investment_increase = 20000 * 1.5\n",
    "\n",
    "# Use the lower and upper `95%` confidence intervals to calculate the range of the possible outcomes of our $30,000\n",
    "cumulative_pnl_increase = initial_investment * df_simulated_returns\n",
    "\n",
    "# Print results\n",
    "print(f\"There is a 95% chance that an initial investment of ${initial_investment_increase} in the portfolio\"\n",
    "      f\" over the next 30 years will end within in the range of\"\n",
    "      f\" ${ci_lower} and ${ci_upper}.\")"
   ]
  },
  {
   "cell_type": "markdown",
   "metadata": {},
   "source": [
    "# Optional Challenge - Early Retirement\n",
    "\n",
    "\n",
    "## Five Years Retirement Option"
   ]
  },
  {
   "cell_type": "code",
   "execution_count": null,
   "metadata": {},
   "outputs": [],
   "source": [
    "# Configuring a Monte Carlo simulation to forecast 5 years cumulative returns\n",
    "# YOUR CODE HERE!"
   ]
  },
  {
   "cell_type": "code",
   "execution_count": null,
   "metadata": {},
   "outputs": [],
   "source": [
    "# Running a Monte Carlo simulation to forecast 5 years cumulative returns\n",
    "# YOUR CODE HERE!"
   ]
  },
  {
   "cell_type": "code",
   "execution_count": null,
   "metadata": {},
   "outputs": [],
   "source": [
    "# Plot simulation outcomes\n",
    "# YOUR CODE HERE!"
   ]
  },
  {
   "cell_type": "code",
   "execution_count": null,
   "metadata": {},
   "outputs": [],
   "source": [
    "# Plot probability distribution and confidence intervals\n",
    "# YOUR CODE HERE!"
   ]
  },
  {
   "cell_type": "code",
   "execution_count": null,
   "metadata": {},
   "outputs": [],
   "source": [
    "# Fetch summary statistics from the Monte Carlo simulation results\n",
    "# YOUR CODE HERE!\n",
    "\n",
    "# Print summary statistics\n",
    "print(tbl_five)"
   ]
  },
  {
   "cell_type": "code",
   "execution_count": null,
   "metadata": {},
   "outputs": [],
   "source": [
    "# Set initial investment\n",
    "# YOUR CODE HERE!\n",
    "\n",
    "# Use the lower and upper `95%` confidence intervals to calculate the range of the possible outcomes of our $60,000\n",
    "# YOUR CODE HERE!\n",
    "\n",
    "# Print results\n",
    "print(f\"There is a 95% chance that an initial investment of ${initial_investment} in the portfolio\"\n",
    "      f\" over the next 5 years will end within in the range of\"\n",
    "      f\" ${ci_lower_five} and ${ci_upper_five}\")"
   ]
  },
  {
   "cell_type": "markdown",
   "metadata": {},
   "source": [
    "### Ten Years Retirement Option"
   ]
  },
  {
   "cell_type": "code",
   "execution_count": null,
   "metadata": {},
   "outputs": [],
   "source": [
    "# Configuring a Monte Carlo simulation to forecast 10 years cumulative returns\n",
    "# YOUR CODE HERE!"
   ]
  },
  {
   "cell_type": "code",
   "execution_count": null,
   "metadata": {},
   "outputs": [],
   "source": [
    "# Running a Monte Carlo simulation to forecast 10 years cumulative returns\n",
    "# YOUR CODE HERE!"
   ]
  },
  {
   "cell_type": "code",
   "execution_count": null,
   "metadata": {},
   "outputs": [],
   "source": [
    "# Plot simulation outcomes\n",
    "# YOUR CODE HERE!"
   ]
  },
  {
   "cell_type": "code",
   "execution_count": null,
   "metadata": {},
   "outputs": [],
   "source": [
    "# Plot probability distribution and confidence intervals\n",
    "# YOUR CODE HERE!"
   ]
  },
  {
   "cell_type": "code",
   "execution_count": null,
   "metadata": {},
   "outputs": [],
   "source": [
    "# Fetch summary statistics from the Monte Carlo simulation results\n",
    "# YOUR CODE HERE!\n",
    "\n",
    "# Print summary statistics\n",
    "print(tbl_ten)"
   ]
  },
  {
   "cell_type": "code",
   "execution_count": null,
   "metadata": {},
   "outputs": [],
   "source": [
    "# Set initial investment\n",
    "# YOUR CODE HERE!\n",
    "\n",
    "# Use the lower and upper `95%` confidence intervals to calculate the range of the possible outcomes of our $60,000\n",
    "# YOUR CODE HERE!\n",
    "\n",
    "# Print results\n",
    "print(f\"There is a 95% chance that an initial investment of ${initial_investment} in the portfolio\"\n",
    "      f\" over the next 10 years will end within in the range of\"\n",
    "      f\" ${ci_lower_ten} and ${ci_upper_ten}\")"
   ]
  }
 ],
 "metadata": {
  "kernelspec": {
   "display_name": "Python 3",
   "language": "python",
   "name": "python3"
  },
  "language_info": {
   "codemirror_mode": {
    "name": "ipython",
    "version": 3
   },
   "file_extension": ".py",
   "mimetype": "text/x-python",
   "name": "python",
   "nbconvert_exporter": "python",
   "pygments_lexer": "ipython3",
   "version": "3.7.7"
  }
 },
 "nbformat": 4,
 "nbformat_minor": 4
}
